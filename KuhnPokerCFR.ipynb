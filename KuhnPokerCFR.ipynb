{
  "nbformat": 4,
  "nbformat_minor": 0,
  "metadata": {
    "colab": {
      "provenance": []
    },
    "kernelspec": {
      "name": "python3",
      "display_name": "Python 3"
    },
    "language_info": {
      "name": "python"
    }
  },
  "cells": [
    {
      "cell_type": "code",
      "source": [
        "import random\n",
        "import numpy as np\n",
        "from collections import defaultdict\n",
        "import matplotlib.pyplot as plt"
      ],
      "metadata": {
        "id": "nRBZgwBh4NSf"
      },
      "execution_count": 25,
      "outputs": []
    },
    {
      "cell_type": "markdown",
      "source": [
        "### Some basic functions to setup cards sampling and normalisation"
      ],
      "metadata": {
        "id": "4c7J-h5s5qJG"
      }
    },
    {
      "cell_type": "code",
      "source": [
        "if hasattr(np, 'float128'):\n",
        "    DTYPE = np.float128\n",
        "else:\n",
        "    DTYPE = np.float64\n",
        "ACTIONS = {0: 'p', 1: 'b'}  # PASS: 0, BET: 1"
      ],
      "metadata": {
        "id": "P4NbSGmJ6w-i"
      },
      "execution_count": 39,
      "outputs": []
    },
    {
      "cell_type": "code",
      "source": [
        "def get_cards():\n",
        "    cards = [1, 2, 3]\n",
        "    card_1 = random.choice(cards)\n",
        "    cards.remove(card_1)\n",
        "    card_2 = random.choice(cards)\n",
        "    return card_1, card_2"
      ],
      "metadata": {
        "id": "ilrSw7jU5Ux6"
      },
      "execution_count": 40,
      "outputs": []
    },
    {
      "cell_type": "code",
      "source": [
        "def normalize(array):\n",
        "    array = np.array(array, dtype=DTYPE)\n",
        "    sum_positive = np.sum(np.maximum(array, 0))\n",
        "    if sum_positive > 0:\n",
        "        return np.maximum(array, 0) / sum_positive\n",
        "    return np.ones_like(array) / len(array)"
      ],
      "metadata": {
        "id": "zLeBi9xr5aCH"
      },
      "execution_count": 41,
      "outputs": []
    },
    {
      "cell_type": "code",
      "source": [
        "def print_strategy(strategy):\n",
        "    \"\"\"Print the strategy profile.\"\"\"\n",
        "    print(\"*\" * 25)\n",
        "    for key in sorted(strategy.keys()):\n",
        "        print(f\"{key}: {strategy[key]}\")\n",
        "    print(\"*\" * 25)"
      ],
      "metadata": {
        "id": "nUBbCHLM6Igb"
      },
      "execution_count": 42,
      "outputs": []
    },
    {
      "cell_type": "markdown",
      "source": [
        "### Calculation and History Functions"
      ],
      "metadata": {
        "id": "EtsyRGKG5-IP"
      }
    },
    {
      "cell_type": "code",
      "source": [
        "def calculate_utility(history, cards):\n",
        "    if history[-2:] == 'pp':\n",
        "        return (1, -1) if cards[0] > cards[1] else (-1, 1)\n",
        "    if history[-2:] == 'bb':\n",
        "        return (2, -2) if cards[0] > cards[1] else (-2, 2)\n",
        "    if history[-2:] == 'bp':\n",
        "        return (-1, 1) if len(history) == 3 else (1, -1)\n",
        "    if history[-2:] == 'pb':\n",
        "        return (-1, 1)"
      ],
      "metadata": {
        "id": "GMpnDmX55v5L"
      },
      "execution_count": 43,
      "outputs": []
    },
    {
      "cell_type": "code",
      "source": [
        "def calculate_expected_value(history, probability, cards, strategy, exp_values):\n",
        "    player = len(history) % 2 + 1\n",
        "    info_set = f\"{cards[player - 1]}{history}\"\n",
        "\n",
        "    if is_terminal(history):\n",
        "        exp_values[info_set] = probability * calculate_utility(history, cards)[0]\n",
        "        return\n",
        "\n",
        "    for action in (0, 1):\n",
        "        new_history = history + ACTIONS[action]\n",
        "        calculate_expected_value(new_history, probability * strategy[info_set][action], cards, strategy, exp_values)"
      ],
      "metadata": {
        "id": "M2Twi0Zb58R3"
      },
      "execution_count": 44,
      "outputs": []
    },
    {
      "cell_type": "code",
      "source": [
        "def is_terminal(history):\n",
        "    return len(history) >= 2 and (history[-2:] in ('pp', 'bb', 'bp') or len(history) == 3)"
      ],
      "metadata": {
        "id": "K3nb1wks5x1F"
      },
      "execution_count": 45,
      "outputs": []
    },
    {
      "cell_type": "markdown",
      "source": [
        "### Counter-Factual Regret Minimsation\n",
        "Updating History and Strategy"
      ],
      "metadata": {
        "id": "wrkt4YcE6Si5"
      }
    },
    {
      "cell_type": "code",
      "source": [
        "def cfr(history, updating_player, p1_prob, p2_prob, cards, strategy, strategy_sum, regret_sum):\n",
        "    player = len(history) % 2 + 1\n",
        "    opponent = 3 - player\n",
        "\n",
        "    if is_terminal(history):\n",
        "        return calculate_utility(history, cards)[player - 1]\n",
        "\n",
        "    info_set = f\"{cards[player - 1]}{history}\"\n",
        "\n",
        "    action_values = np.zeros(2)\n",
        "    for action in (0, 1):\n",
        "        new_history = history + ACTIONS[action]\n",
        "        if player == 1:\n",
        "            action_values[action] = -cfr(new_history, updating_player, p1_prob * strategy[info_set][action], p2_prob, cards, strategy, strategy_sum, regret_sum)\n",
        "        else:\n",
        "            action_values[action] = -cfr(new_history, updating_player, p1_prob, p2_prob * strategy[info_set][action], cards, strategy, strategy_sum, regret_sum)\n",
        "\n",
        "    strategy_value = np.dot(action_values, strategy[info_set])\n",
        "\n",
        "    if player == updating_player:\n",
        "        opponent_prob = p2_prob if player == 1 else p1_prob\n",
        "        regrets = opponent_prob * (action_values - strategy_value)\n",
        "        regret_sum[info_set] += regrets\n",
        "        strategy_sum[info_set] += (p1_prob if player == 1 else p2_prob) * strategy[info_set]\n",
        "        strategy[info_set] = normalize(regret_sum[info_set])\n",
        "\n",
        "    return strategy_value"
      ],
      "metadata": {
        "id": "NIVhfeA06QV8"
      },
      "execution_count": 46,
      "outputs": []
    },
    {
      "cell_type": "code",
      "source": [
        "def run_cfr_with_tracking(num_iterations, track_interval=1000, reset_interval=100000):\n",
        "\n",
        "    # Then, use this type when initializing arrays:\n",
        "    strategy = defaultdict(lambda: np.array([0.5, 0.5], dtype=DTYPE))\n",
        "    strategy_sum = defaultdict(lambda: np.zeros(2, dtype=DTYPE))\n",
        "    regret_sum = defaultdict(lambda: np.zeros(2, dtype=DTYPE))\n",
        "\n",
        "    # Approximate Nash equilibrium for Kuhn Poker\n",
        "    nash_equilibrium = {\n",
        "        '1': np.array([2/3, 1/3]),\n",
        "        '2': np.array([1, 0]),\n",
        "        '3': np.array([1, 0]),\n",
        "        '1p': np.array([1, 0]),\n",
        "        '2p': np.array([2/3, 1/3]),\n",
        "        '3p': np.array([0, 1]),\n",
        "    }\n",
        "\n",
        "    distances = []\n",
        "    iterations = []\n",
        "\n",
        "    for i in range(1, num_iterations + 1):\n",
        "        for player in (1, 2):\n",
        "            cfr(\"\", player, 1, 1, get_cards(), strategy, strategy_sum, regret_sum)\n",
        "\n",
        "        if i % reset_interval == 0:\n",
        "            # Reset and recalculate average strategy\n",
        "            average_strategy = {k: normalize(v) for k, v in strategy_sum.items()}\n",
        "            strategy_sum = defaultdict(lambda: np.zeros(2, dtype=DTYPE))\n",
        "            for info_set, probs in average_strategy.items():\n",
        "                strategy_sum[info_set] = probs * i\n",
        "\n",
        "        if i % track_interval == 0:\n",
        "            average_strategy = {k: normalize(v) for k, v in strategy_sum.items()}\n",
        "            distance = calculate_nash_distance(average_strategy, nash_equilibrium)\n",
        "            distances.append(distance)\n",
        "            iterations.append(i)\n",
        "\n",
        "    final_strategy = {k: normalize(v) for k, v in strategy_sum.items()}\n",
        "    return final_strategy, iterations, distances"
      ],
      "metadata": {
        "id": "CwxReVbJ6nzR"
      },
      "execution_count": 47,
      "outputs": []
    },
    {
      "cell_type": "code",
      "source": [
        "def calculate_nash_distance(average_strategy, nash_equilibrium):\n",
        "    total_relative_error = 0\n",
        "    for info_set in nash_equilibrium:\n",
        "        if info_set in average_strategy:\n",
        "            current = average_strategy[info_set]\n",
        "            nash = nash_equilibrium[info_set]\n",
        "            relative_error = np.sum(np.abs((current - nash) / (nash + 1e-15)))  # Add small epsilon to avoid division by zero\n",
        "            total_relative_error += relative_error\n",
        "    return total_relative_error"
      ],
      "metadata": {
        "id": "33I4TO0G6sml"
      },
      "execution_count": 48,
      "outputs": []
    },
    {
      "cell_type": "code",
      "source": [
        "def plot_convergence(iterations, distances):\n",
        "    plt.figure(figsize=(10, 6))\n",
        "    plt.plot(iterations, distances)\n",
        "    plt.title('Convergence to Nash Equilibrium')\n",
        "    plt.xlabel('Iterations')\n",
        "    plt.ylabel('Distance to Nash Equilibrium')\n",
        "    plt.xscale('log')\n",
        "    plt.grid(True)\n",
        "    plt.show()"
      ],
      "metadata": {
        "id": "qFsYSDHh62Wy"
      },
      "execution_count": 49,
      "outputs": []
    },
    {
      "cell_type": "code",
      "execution_count": 59,
      "metadata": {
        "colab": {
          "base_uri": "https://localhost:8080/",
          "height": 829
        },
        "id": "ghjwyCML4Kjs",
        "outputId": "fcd42e03-972b-4ecb-b6a0-8afc95e2a35a"
      },
      "outputs": [
        {
          "output_type": "stream",
          "name": "stdout",
          "text": [
            "Expected utility for first player: -0.055517039883032526\n",
            "*************************\n",
            "1: [0.92770426 0.07229574]\n",
            "1b: [9.99851323e-01 1.48676777e-04]\n",
            "1p: [0.65057217 0.34942783]\n",
            "1pb: [9.99918215e-01 8.17852605e-05]\n",
            "2: [0.99850478 0.00149522]\n",
            "2b: [0.63512269 0.36487731]\n",
            "2p: [9.99375372e-01 6.24628198e-04]\n",
            "2pb: [0.59234047 0.40765953]\n",
            "3: [0.78144941 0.21855059]\n",
            "3b: [1.52671756e-04 9.99847328e-01]\n",
            "3p: [4.58015267e-04 9.99541985e-01]\n",
            "3pb: [9.51854637e-05 9.99904815e-01]\n",
            "*************************\n"
          ]
        },
        {
          "output_type": "display_data",
          "data": {
            "text/plain": [
              "<Figure size 1000x600 with 1 Axes>"
            ],
            "image/png": "[encoded data removed]"
          },
          "metadata": {}
        }
      ],
      "source": [
        "NUM_ITERATIONS = 10000\n",
        "TRACK_INTERVAL = 10\n",
        "\n",
        "final_strategy, iterations, distances = run_cfr_with_tracking(NUM_ITERATIONS, TRACK_INTERVAL)\n",
        "\n",
        "total_exp_value = 0\n",
        "for c1 in (1, 2, 3):\n",
        "    for c2 in (1, 2, 3):\n",
        "        if c1 != c2:\n",
        "            exp_values = {}\n",
        "            calculate_expected_value(\"\", 1/6, [c1, c2], final_strategy, exp_values)\n",
        "            total_exp_value += sum(exp_values.values())\n",
        "\n",
        "print(f\"Expected utility for first player: {total_exp_value}\")\n",
        "\n",
        "print_strategy(final_strategy)\n",
        "plot_convergence(iterations, distances)"
      ]
    },
    {
      "cell_type": "code",
      "source": [],
      "metadata": {
        "id": "rcIFG4Ry7n3k"
      },
      "execution_count": null,
      "outputs": []
    }
  ]
}